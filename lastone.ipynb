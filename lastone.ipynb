{
 "cells": [
  {
   "cell_type": "code",
   "execution_count": 178,
   "id": "e1dca278",
   "metadata": {},
   "outputs": [],
   "source": [
    "import os\n",
    "import logging\n",
    "from pathlib import Path\n",
    "from github import Github\n",
    "from git import Repo\n",
    "import pandas as pd\n",
    "from tqdm import tqdm\n",
    "import concurrent.futures\n",
    "import re\n",
    "import difflib"
   ]
  },
  {
   "cell_type": "code",
   "execution_count": 179,
   "id": "a5b59692",
   "metadata": {},
   "outputs": [
    {
     "name": "stdout",
     "output_type": "stream",
     "text": [
      "None\n"
     ]
    }
   ],
   "source": [
    "# === CONFIGURATION ===\n",
    "GITHUB_TOKEN = os.getenv(\"GITHUB_TOKEN\")\n",
    "YOUR_REPOS = [\n",
    "    \"Bishwash-007/SubscriptionTracker\"\n",
    "    # add your own \"owner/repo\" strings here\n",
    "]\n",
    "REPOS_ROOT = Path(\"cloned_repos\")\n",
    "OUTPUT_CSV = \"./data/SubscriptionTracker.csv\"\n",
    "\n",
    "# === LOGGING SETUP ===\n",
    "logger = logging.getLogger(\"MergeExtractor\")\n",
    "logger.setLevel(logging.DEBUG)\n",
    "handler = logging.StreamHandler()\n",
    "formatter = logging.Formatter(\n",
    "    fmt=\"%(asctime)s %(levelname)-5s [%(name)s] %(message)s\",\n",
    "    datefmt=\"%Y-%m-%dT%H:%M:%S\"\n",
    ")\n",
    "handler.setFormatter(formatter)\n",
    "logger.addHandler(handler)\n",
    "\n",
    "# === GITHUB API CLIENT (optional, only for checks) ===\n",
    "gh = Github(GITHUB_TOKEN) if GITHUB_TOKEN else None\n",
    "print(gh)"
   ]
  },
  {
   "cell_type": "markdown",
   "id": "ab824191",
   "metadata": {},
   "source": [
    "## Clone Repo"
   ]
  },
  {
   "cell_type": "code",
   "execution_count": 180,
   "id": "d12cd11c",
   "metadata": {},
   "outputs": [],
   "source": [
    "def clone_repo(repo_full_name, root_dir=REPOS_ROOT):\n",
    "    dest = root_dir / repo_full_name.replace(\"/\", \"_\")\n",
    "    if dest.exists():\n",
    "        logger.info(f\"Reusing existing clone: {repo_full_name}\")\n",
    "    else:\n",
    "        logger.info(f\"Cloning {repo_full_name}\")\n",
    "        try:\n",
    "            Repo.clone_from(f\"https://github.com/{repo_full_name}.git\", dest)\n",
    "        except Exception as e:\n",
    "            logger.error(f\"Failed to clone {repo_full_name}: {e}\")\n",
    "            return None\n",
    "    return dest"
   ]
  },
  {
   "cell_type": "code",
   "execution_count": 181,
   "id": "078ab7a7",
   "metadata": {},
   "outputs": [],
   "source": [
    "def get_diff(a, b):\n",
    "    \"\"\"Return unified diff (only changed lines) between two blobs.\"\"\"\n",
    "    a_lines = a.splitlines() if a else []\n",
    "    b_lines = b.splitlines() if b else []\n",
    "    diff = list(difflib.unified_diff(a_lines, b_lines, lineterm=''))\n",
    "    return \"\\n\".join([line for line in diff if line.startswith(('+', '-')) and not line.startswith(('+++', '---'))])"
   ]
  },
  {
   "cell_type": "code",
   "execution_count": 182,
   "id": "d845500d",
   "metadata": {},
   "outputs": [],
   "source": [
    "def try_git_show(repo, blob_ref):\n",
    "    try:\n",
    "        return repo.git.show(blob_ref)\n",
    "    except Exception:\n",
    "        return \"\""
   ]
  },
  {
   "cell_type": "code",
   "execution_count": 183,
   "id": "76ec120f",
   "metadata": {},
   "outputs": [],
   "source": [
    "def extract_merge_data(repo_path):\n",
    "    logger.info(f\"Extracting merge diffs from repo: {repo_path.name}\")\n",
    "    repo = Repo(repo_path)\n",
    "    data = []\n",
    "\n",
    "    for commit in repo.iter_commits('--all'):\n",
    "        if len(commit.parents) != 2:\n",
    "            continue\n",
    "\n",
    "        p1, p2 = commit.parents\n",
    "        try:\n",
    "            base_commit = repo.git.merge_base(p1, p2)\n",
    "        except Exception:\n",
    "            logger.debug(f\"Skipping commit {commit.hexsha}: no merge_base found\")\n",
    "            continue\n",
    "\n",
    "        try:\n",
    "            diffs = commit.diff(p1)\n",
    "        except Exception as e:\n",
    "            logger.warning(f\"Failed to diff {commit.hexsha} vs parent: {e}\")\n",
    "            continue\n",
    "\n",
    "        for diff in diffs:\n",
    "            file_path = diff.a_path or diff.b_path\n",
    "            if not file_path or diff.new_file or diff.deleted_file:\n",
    "                continue\n",
    "\n",
    "            try:\n",
    "                base_blob = try_git_show(repo, f\"{base_commit}:{file_path}\")\n",
    "                left_blob = try_git_show(repo, f\"{p1.hexsha}:{file_path}\")\n",
    "                right_blob = try_git_show(repo, f\"{p2.hexsha}:{file_path}\")\n",
    "                merged_blob = try_git_show(repo, f\"{commit.hexsha}:{file_path}\")\n",
    "\n",
    "                left_diff = get_diff(base_blob, left_blob)\n",
    "                right_diff = get_diff(base_blob, right_blob)\n",
    "                merged_diff = get_diff(base_blob, merged_blob)\n",
    "\n",
    "                if any([left_diff, right_diff, merged_diff]):\n",
    "                    data.append({\n",
    "                        \"repo\": repo_path.name,\n",
    "                        \"commit\": commit.hexsha,\n",
    "                        \"commit_msg\": commit.message.strip().replace('\\n', ' '),\n",
    "                        \"file\": file_path,\n",
    "                        \"left_diff\": left_diff.strip(),\n",
    "                        \"right_diff\": right_diff.strip(),\n",
    "                        \"merged_diff\": merged_diff.strip()\n",
    "                    })\n",
    "                    logger.debug(f\"Captured diff for {file_path} from commit {commit.hexsha}\")\n",
    "            except Exception as e:\n",
    "                logger.warning(f\"Skipping file {file_path} at {commit.hexsha}: {e}\")\n",
    "    return data"
   ]
  },
  {
   "cell_type": "code",
   "execution_count": 184,
   "id": "025b8ab7",
   "metadata": {},
   "outputs": [],
   "source": [
    "def extract_changed_lines_from_patch(patch):\n",
    "    \"\"\"Extract only the actual changed lines (+ or -) from a unified diff patch.\"\"\"\n",
    "    lines = patch.splitlines()\n",
    "    changed = []\n",
    "    for line in lines:\n",
    "        if line.startswith('+') and not line.startswith('+++'):\n",
    "            changed.append(line)\n",
    "        elif line.startswith('-') and not line.startswith('---'):\n",
    "            changed.append(line)\n",
    "    return '\\n'.join(changed)"
   ]
  },
  {
   "cell_type": "code",
   "execution_count": 185,
   "id": "4a45e2b4",
   "metadata": {},
   "outputs": [],
   "source": [
    "def extract_conflict_blocks(content):\n",
    "    \"\"\"Extract blocks with merge conflict markers.\"\"\"\n",
    "    pattern = re.compile(r\"<<<<<<<.*?\\n(.*?)=======\\n(.*?)>>>>>>>.*?\\n\", re.DOTALL)\n",
    "    matches = pattern.findall(content)\n",
    "    blocks = []\n",
    "    for left, right in matches:\n",
    "        blocks.append(f\"<<<<<<<\\n{left}=======\\n{right}>>>>>>>\")\n",
    "    return blocks"
   ]
  },
  {
   "cell_type": "code",
   "execution_count": 186,
   "id": "f4138ad5",
   "metadata": {},
   "outputs": [
    {
     "name": "stderr",
     "output_type": "stream",
     "text": [
      "2025-07-27T17:53:22 INFO  [MergeExtractor] Starting workflow with custom repo list\n",
      "2025-07-27T17:53:22 INFO  [MergeExtractor] Starting workflow with custom repo list\n",
      "2025-07-27T17:53:22 INFO  [MergeExtractor] Starting workflow with custom repo list\n",
      "2025-07-27T17:53:22 INFO  [MergeExtractor] Starting workflow with custom repo list\n",
      "2025-07-27T17:53:22 INFO  [MergeExtractor] Reusing existing clone: Bishwash-007/SubscriptionTracker\n",
      "2025-07-27T17:53:22 INFO  [MergeExtractor] Reusing existing clone: Bishwash-007/SubscriptionTracker\n",
      "2025-07-27T17:53:22 INFO  [MergeExtractor] Reusing existing clone: Bishwash-007/SubscriptionTracker\n",
      "2025-07-27T17:53:22 INFO  [MergeExtractor] Reusing existing clone: Bishwash-007/SubscriptionTracker\n",
      "2025-07-27T17:53:22 INFO  [MergeExtractor] Extracting merge diffs from repo: Bishwash-007_SubscriptionTracker\n",
      "2025-07-27T17:53:22 INFO  [MergeExtractor] Extracting merge diffs from repo: Bishwash-007_SubscriptionTracker\n",
      "2025-07-27T17:53:22 INFO  [MergeExtractor] Extracting merge diffs from repo: Bishwash-007_SubscriptionTracker\n",
      "Extracting merges:   0%|          | 0/1 [00:00<?, ?it/s]2025-07-27T17:53:22 INFO  [MergeExtractor] Extracting merge diffs from repo: Bishwash-007_SubscriptionTracker\n",
      "2025-07-27T17:53:22 DEBUG [MergeExtractor] Captured diff for app.js from commit c63dc037dcdba879108dc8d182cf1b6e4267c488\n",
      "2025-07-27T17:53:22 DEBUG [MergeExtractor] Captured diff for app.js from commit c63dc037dcdba879108dc8d182cf1b6e4267c488\n",
      "2025-07-27T17:53:22 DEBUG [MergeExtractor] Captured diff for app.js from commit c63dc037dcdba879108dc8d182cf1b6e4267c488\n",
      "2025-07-27T17:53:22 DEBUG [MergeExtractor] Captured diff for app.js from commit c63dc037dcdba879108dc8d182cf1b6e4267c488\n",
      "Extracting merges: 100%|██████████| 1/1 [00:00<00:00,  9.13it/s]\n",
      "2025-07-27T17:53:22 INFO  [MergeExtractor] Saved 1 records to ./data/SubscriptionTracker.csv\n",
      "2025-07-27T17:53:22 INFO  [MergeExtractor] Saved 1 records to ./data/SubscriptionTracker.csv\n",
      "2025-07-27T17:53:22 INFO  [MergeExtractor] Saved 1 records to ./data/SubscriptionTracker.csv\n",
      "2025-07-27T17:53:22 INFO  [MergeExtractor] Saved 1 records to ./data/SubscriptionTracker.csv\n"
     ]
    }
   ],
   "source": [
    "def main():\n",
    "    logger.info(\"Starting workflow with custom repo list\")\n",
    "    REPOS_ROOT.mkdir(exist_ok=True)\n",
    "    \n",
    "    clone_paths = []\n",
    "    for full_name in YOUR_REPOS:\n",
    "        path = clone_repo(full_name)\n",
    "        if path:\n",
    "            clone_paths.append(path)\n",
    "    \n",
    "    all_data = []\n",
    "    with concurrent.futures.ThreadPoolExecutor(max_workers=4) as executor:\n",
    "        futures = {executor.submit(extract_merge_data, p): p for p in clone_paths}\n",
    "        for fut in tqdm(concurrent.futures.as_completed(futures),\n",
    "                        total=len(futures), desc=\"Extracting merges\"):\n",
    "            path = futures[fut]\n",
    "            try:\n",
    "                result = fut.result()\n",
    "                all_data.extend(result)\n",
    "            except Exception as e:\n",
    "                logger.error(f\"Error processing {path.name}: {e}\")\n",
    "                \n",
    "    Path(OUTPUT_CSV).parent.mkdir(parents=True, exist_ok=True)\n",
    "    df = pd.DataFrame(all_data, columns=[\"repo\", \"commit\", \"commit_msg\", \"file\", \"left_diff\", \"right_diff\", \"merged_diff\"])\n",
    "    df.to_csv(OUTPUT_CSV, index=False)\n",
    "    logger.info(f\"Saved {len(df)} records to {OUTPUT_CSV}\")\n",
    "\n",
    "if __name__ == \"__main__\":\n",
    "    main()"
   ]
  },
  {
   "cell_type": "code",
   "execution_count": 187,
   "id": "e240aebb",
   "metadata": {},
   "outputs": [],
   "source": [
    "df = pd.read_csv('./data/SubscriptionTracker.csv')"
   ]
  },
  {
   "cell_type": "code",
   "execution_count": 188,
   "id": "8fdbf297",
   "metadata": {},
   "outputs": [
    {
     "data": {
      "text/html": [
       "<div>\n",
       "<style scoped>\n",
       "    .dataframe tbody tr th:only-of-type {\n",
       "        vertical-align: middle;\n",
       "    }\n",
       "\n",
       "    .dataframe tbody tr th {\n",
       "        vertical-align: top;\n",
       "    }\n",
       "\n",
       "    .dataframe thead th {\n",
       "        text-align: right;\n",
       "    }\n",
       "</style>\n",
       "<table border=\"1\" class=\"dataframe\">\n",
       "  <thead>\n",
       "    <tr style=\"text-align: right;\">\n",
       "      <th></th>\n",
       "      <th>repo</th>\n",
       "      <th>commit</th>\n",
       "      <th>commit_msg</th>\n",
       "      <th>file</th>\n",
       "      <th>left_diff</th>\n",
       "      <th>right_diff</th>\n",
       "      <th>merged_diff</th>\n",
       "    </tr>\n",
       "  </thead>\n",
       "  <tbody>\n",
       "    <tr>\n",
       "      <th>0</th>\n",
       "      <td>Bishwash-007_SubscriptionTracker</td>\n",
       "      <td>c63dc037dcdba879108dc8d182cf1b6e4267c488</td>\n",
       "      <td>Merge branch 'Anurag' of https://github.com/an...</td>\n",
       "      <td>app.js</td>\n",
       "      <td>-  await connectToDatabase();\\n+  await connec...</td>\n",
       "      <td>-import connectToDatabase from \"./database/mon...</td>\n",
       "      <td>-import connectToDatabase from \"./database/mon...</td>\n",
       "    </tr>\n",
       "  </tbody>\n",
       "</table>\n",
       "</div>"
      ],
      "text/plain": [
       "                               repo                                    commit  \\\n",
       "0  Bishwash-007_SubscriptionTracker  c63dc037dcdba879108dc8d182cf1b6e4267c488   \n",
       "\n",
       "                                          commit_msg    file  \\\n",
       "0  Merge branch 'Anurag' of https://github.com/an...  app.js   \n",
       "\n",
       "                                           left_diff  \\\n",
       "0  -  await connectToDatabase();\\n+  await connec...   \n",
       "\n",
       "                                          right_diff  \\\n",
       "0  -import connectToDatabase from \"./database/mon...   \n",
       "\n",
       "                                         merged_diff  \n",
       "0  -import connectToDatabase from \"./database/mon...  "
      ]
     },
     "execution_count": 188,
     "metadata": {},
     "output_type": "execute_result"
    }
   ],
   "source": [
    "df"
   ]
  },
  {
   "cell_type": "code",
   "execution_count": null,
   "id": "c67e389b",
   "metadata": {},
   "outputs": [],
   "source": []
  }
 ],
 "metadata": {
  "kernelspec": {
   "display_name": "venv",
   "language": "python",
   "name": "python3"
  },
  "language_info": {
   "codemirror_mode": {
    "name": "ipython",
    "version": 3
   },
   "file_extension": ".py",
   "mimetype": "text/x-python",
   "name": "python",
   "nbconvert_exporter": "python",
   "pygments_lexer": "ipython3",
   "version": "3.13.2"
  }
 },
 "nbformat": 4,
 "nbformat_minor": 5
}
